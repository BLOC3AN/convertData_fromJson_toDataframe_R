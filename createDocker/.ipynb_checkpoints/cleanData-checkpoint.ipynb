{
 "cells": [
  {
   "cell_type": "markdown",
   "id": "780c34f2-54d5-40a6-a2c0-247e24d6f8b7",
   "metadata": {
    "editable": true,
    "slideshow": {
     "slide_type": ""
    },
    "tags": []
   },
   "source": [
    "**Load library and read file**  <br> \n",
    "*i'm using tidyverse packages to solve*"
   ]
  },
  {
   "cell_type": "code",
   "execution_count": 1,
   "id": "51ebfc6d-5198-43c0-8786-fc53e7921c62",
   "metadata": {
    "editable": true,
    "slideshow": {
     "slide_type": ""
    },
    "tags": []
   },
   "outputs": [
    {
     "name": "stderr",
     "output_type": "stream",
     "text": [
      "── \u001b[1mAttaching core tidyverse packages\u001b[22m ──────────────────────── tidyverse 2.0.0 ──\n",
      "\u001b[32m✔\u001b[39m \u001b[34mdplyr    \u001b[39m 1.1.4     \u001b[32m✔\u001b[39m \u001b[34mreadr    \u001b[39m 2.1.5\n",
      "\u001b[32m✔\u001b[39m \u001b[34mforcats  \u001b[39m 1.0.0     \u001b[32m✔\u001b[39m \u001b[34mstringr  \u001b[39m 1.5.1\n",
      "\u001b[32m✔\u001b[39m \u001b[34mggplot2  \u001b[39m 3.5.1     \u001b[32m✔\u001b[39m \u001b[34mtibble   \u001b[39m 3.2.1\n",
      "\u001b[32m✔\u001b[39m \u001b[34mlubridate\u001b[39m 1.9.3     \u001b[32m✔\u001b[39m \u001b[34mtidyr    \u001b[39m 1.3.1\n",
      "\u001b[32m✔\u001b[39m \u001b[34mpurrr    \u001b[39m 1.0.2     \n",
      "── \u001b[1mConflicts\u001b[22m ────────────────────────────────────────── tidyverse_conflicts() ──\n",
      "\u001b[31m✖\u001b[39m \u001b[34mdplyr\u001b[39m::\u001b[32mfilter()\u001b[39m masks \u001b[34mstats\u001b[39m::filter()\n",
      "\u001b[31m✖\u001b[39m \u001b[34mdplyr\u001b[39m::\u001b[32mlag()\u001b[39m    masks \u001b[34mstats\u001b[39m::lag()\n",
      "\u001b[36mℹ\u001b[39m Use the conflicted package (\u001b[3m\u001b[34m<http://conflicted.r-lib.org/>\u001b[39m\u001b[23m) to force all conflicts to become errors\n"
     ]
    }
   ],
   "source": [
    "library(tidyverse)"
   ]
  },
  {
   "cell_type": "code",
   "execution_count": 2,
   "id": "97d44a7d-dd01-4ac0-bc8d-17c26dc7bc23",
   "metadata": {
    "editable": true,
    "slideshow": {
     "slide_type": ""
    },
    "tags": []
   },
   "outputs": [],
   "source": [
    "pathFiles = \"taiwan_2024_03_21_11_05_45.csv\"\n",
    "dataCsv <- read.csv(pathFiles,header = FALSE)"
   ]
  },
  {
   "cell_type": "code",
   "execution_count": 3,
   "id": "508fb25f-5774-486f-915b-a6f50533374e",
   "metadata": {
    "editable": true,
    "slideshow": {
     "slide_type": ""
    },
    "tags": []
   },
   "outputs": [],
   "source": [
    "data <- dataCsv[-1]\n",
    "names(data) <- c(\"current\",\"volt\",\"valve\",\"hpa1\",\"hpa2\",\"hpa3\",\"temp\",\"cnt\",\"ms\",\"rtc\")"
   ]
  },
  {
   "cell_type": "markdown",
   "id": "f54b136c-75ea-43e6-9a86-e3f8020779be",
   "metadata": {
    "editable": true,
    "slideshow": {
     "slide_type": ""
    },
    "tags": []
   },
   "source": [
    "<h1>Method1</h1>"
   ]
  },
  {
   "cell_type": "code",
   "execution_count": 4,
   "id": "0ff103f1-7715-4184-8210-eba45d3b7521",
   "metadata": {
    "editable": true,
    "slideshow": {
     "slide_type": ""
    },
    "tags": []
   },
   "outputs": [],
   "source": [
    "dataClone <- data"
   ]
  },
  {
   "cell_type": "markdown",
   "id": "51d08dd7-e78b-4108-b241-f8b43aa69704",
   "metadata": {},
   "source": [
    "<h2>Split data</h2>\n"
   ]
  },
  {
   "cell_type": "markdown",
   "id": "c0449409-cfdf-4b33-bfb2-edebdc680efe",
   "metadata": {},
   "source": [
    "*Splitting string as \":\" and take numbers*"
   ]
  },
  {
   "cell_type": "code",
   "execution_count": 5,
   "id": "cc97c547-4e90-4fe6-9f70-cec2186bd98a",
   "metadata": {
    "editable": true,
    "slideshow": {
     "slide_type": ""
    },
    "tags": []
   },
   "outputs": [],
   "source": [
    "splitData <- function(data,num){\n",
    "    for(i in data[num]) {\n",
    "       result <- strsplit(i,\":\")\n",
    "    }\n",
    "    return (result)\n",
    "}"
   ]
  },
  {
   "cell_type": "markdown",
   "id": "deb6349d-2363-4c5b-a55f-35e486d666dd",
   "metadata": {},
   "source": [
    "<h2>\n",
    "    Merge data\n",
    "</h2>"
   ]
  },
  {
   "cell_type": "markdown",
   "id": "04d07301-3e42-4be9-9d8e-79b9897a949c",
   "metadata": {},
   "source": [
    "*Merge strings after splited as each column in dataframe*\n"
   ]
  },
  {
   "cell_type": "code",
   "execution_count": 13,
   "id": "61b11e94-972c-47d2-8079-4594cd148d66",
   "metadata": {
    "editable": true,
    "scrolled": true,
    "slideshow": {
     "slide_type": ""
    },
    "tags": []
   },
   "outputs": [],
   "source": [
    "mergeData <- function(data,num) {\n",
    "    \n",
    "    for(i in 1:length(data[[1]])) {\n",
    "        data[[num]][i] <-splitData(data,num)[[i]][2]\n",
    "        data \n",
    "    }\n",
    "   return(data)\n",
    "}\n"
   ]
  },
  {
   "cell_type": "markdown",
   "id": "07fd858b-80a6-449c-8823-9b87cace65bf",
   "metadata": {},
   "source": [
    "<h2>\n",
    "    Export data\n",
    "</h2>"
   ]
  },
  {
   "cell_type": "markdown",
   "id": "6865039e-58ae-4991-8498-e1fc8e76194b",
   "metadata": {},
   "source": [
    "*Changing data types of each columns and showing at dataframe*"
   ]
  },
  {
   "cell_type": "code",
   "execution_count": 14,
   "id": "af7b340f-c68d-4c2a-8fc9-54fb4a341264",
   "metadata": {
    "editable": true,
    "slideshow": {
     "slide_type": ""
    },
    "tags": []
   },
   "outputs": [
    {
     "data": {
      "text/html": [
       "<table class=\"dataframe\">\n",
       "<caption>A data.frame: 10 × 10</caption>\n",
       "<thead>\n",
       "\t<tr><th scope=col>current</th><th scope=col>volt</th><th scope=col>valve</th><th scope=col>hpa1</th><th scope=col>hpa2</th><th scope=col>hpa3</th><th scope=col>temp</th><th scope=col>cnt</th><th scope=col>ms</th><th scope=col>rtc</th></tr>\n",
       "\t<tr><th scope=col>&lt;dbl&gt;</th><th scope=col>&lt;dbl&gt;</th><th scope=col>&lt;dbl&gt;</th><th scope=col>&lt;dbl&gt;</th><th scope=col>&lt;dbl&gt;</th><th scope=col>&lt;dbl&gt;</th><th scope=col>&lt;dbl&gt;</th><th scope=col>&lt;dbl&gt;</th><th scope=col>&lt;dbl&gt;</th><th scope=col>&lt;dttm&gt;</th></tr>\n",
       "</thead>\n",
       "<tbody>\n",
       "\t<tr><td>2727</td><td>24804</td><td>544</td><td>995</td><td>1000</td><td>998</td><td>30</td><td>20026</td><td>260</td><td>2024-03-21 11:01:36</td></tr>\n",
       "\t<tr><td>2730</td><td>24804</td><td>548</td><td>995</td><td> 999</td><td>998</td><td>30</td><td>20126</td><td>260</td><td>2024-03-21 11:01:37</td></tr>\n",
       "\t<tr><td>2726</td><td>24804</td><td>549</td><td>995</td><td> 998</td><td>998</td><td>30</td><td>20226</td><td>260</td><td>2024-03-21 11:01:38</td></tr>\n",
       "\t<tr><td>2724</td><td>24804</td><td>548</td><td>994</td><td>1000</td><td>998</td><td>30</td><td>20326</td><td>260</td><td>2024-03-21 11:01:39</td></tr>\n",
       "\t<tr><td>2731</td><td>24804</td><td>541</td><td>995</td><td> 999</td><td>998</td><td>30</td><td>20426</td><td>260</td><td>2024-03-21 11:01:40</td></tr>\n",
       "\t<tr><td>2725</td><td>24804</td><td>550</td><td>995</td><td> 999</td><td>998</td><td>30</td><td>20526</td><td>260</td><td>2024-03-21 11:01:41</td></tr>\n",
       "\t<tr><td>2724</td><td>24804</td><td>542</td><td>994</td><td>1000</td><td>999</td><td>30</td><td>20626</td><td>260</td><td>2024-03-21 11:01:42</td></tr>\n",
       "\t<tr><td>2724</td><td>24804</td><td>549</td><td>995</td><td> 999</td><td>998</td><td>30</td><td>20726</td><td>260</td><td>2024-03-21 11:01:43</td></tr>\n",
       "\t<tr><td>2726</td><td>24804</td><td>541</td><td>995</td><td>1000</td><td>998</td><td>30</td><td>20826</td><td>260</td><td>2024-03-21 11:01:44</td></tr>\n",
       "\t<tr><td>2727</td><td>24804</td><td>545</td><td>995</td><td> 999</td><td>998</td><td>30</td><td>20926</td><td>260</td><td>2024-03-21 11:01:45</td></tr>\n",
       "</tbody>\n",
       "</table>\n"
      ],
      "text/latex": [
       "A data.frame: 10 × 10\n",
       "\\begin{tabular}{llllllllll}\n",
       " current & volt & valve & hpa1 & hpa2 & hpa3 & temp & cnt & ms & rtc\\\\\n",
       " <dbl> & <dbl> & <dbl> & <dbl> & <dbl> & <dbl> & <dbl> & <dbl> & <dbl> & <dttm>\\\\\n",
       "\\hline\n",
       "\t 2727 & 24804 & 544 & 995 & 1000 & 998 & 30 & 20026 & 260 & 2024-03-21 11:01:36\\\\\n",
       "\t 2730 & 24804 & 548 & 995 &  999 & 998 & 30 & 20126 & 260 & 2024-03-21 11:01:37\\\\\n",
       "\t 2726 & 24804 & 549 & 995 &  998 & 998 & 30 & 20226 & 260 & 2024-03-21 11:01:38\\\\\n",
       "\t 2724 & 24804 & 548 & 994 & 1000 & 998 & 30 & 20326 & 260 & 2024-03-21 11:01:39\\\\\n",
       "\t 2731 & 24804 & 541 & 995 &  999 & 998 & 30 & 20426 & 260 & 2024-03-21 11:01:40\\\\\n",
       "\t 2725 & 24804 & 550 & 995 &  999 & 998 & 30 & 20526 & 260 & 2024-03-21 11:01:41\\\\\n",
       "\t 2724 & 24804 & 542 & 994 & 1000 & 999 & 30 & 20626 & 260 & 2024-03-21 11:01:42\\\\\n",
       "\t 2724 & 24804 & 549 & 995 &  999 & 998 & 30 & 20726 & 260 & 2024-03-21 11:01:43\\\\\n",
       "\t 2726 & 24804 & 541 & 995 & 1000 & 998 & 30 & 20826 & 260 & 2024-03-21 11:01:44\\\\\n",
       "\t 2727 & 24804 & 545 & 995 &  999 & 998 & 30 & 20926 & 260 & 2024-03-21 11:01:45\\\\\n",
       "\\end{tabular}\n"
      ],
      "text/markdown": [
       "\n",
       "A data.frame: 10 × 10\n",
       "\n",
       "| current &lt;dbl&gt; | volt &lt;dbl&gt; | valve &lt;dbl&gt; | hpa1 &lt;dbl&gt; | hpa2 &lt;dbl&gt; | hpa3 &lt;dbl&gt; | temp &lt;dbl&gt; | cnt &lt;dbl&gt; | ms &lt;dbl&gt; | rtc &lt;dttm&gt; |\n",
       "|---|---|---|---|---|---|---|---|---|---|\n",
       "| 2727 | 24804 | 544 | 995 | 1000 | 998 | 30 | 20026 | 260 | 2024-03-21 11:01:36 |\n",
       "| 2730 | 24804 | 548 | 995 |  999 | 998 | 30 | 20126 | 260 | 2024-03-21 11:01:37 |\n",
       "| 2726 | 24804 | 549 | 995 |  998 | 998 | 30 | 20226 | 260 | 2024-03-21 11:01:38 |\n",
       "| 2724 | 24804 | 548 | 994 | 1000 | 998 | 30 | 20326 | 260 | 2024-03-21 11:01:39 |\n",
       "| 2731 | 24804 | 541 | 995 |  999 | 998 | 30 | 20426 | 260 | 2024-03-21 11:01:40 |\n",
       "| 2725 | 24804 | 550 | 995 |  999 | 998 | 30 | 20526 | 260 | 2024-03-21 11:01:41 |\n",
       "| 2724 | 24804 | 542 | 994 | 1000 | 999 | 30 | 20626 | 260 | 2024-03-21 11:01:42 |\n",
       "| 2724 | 24804 | 549 | 995 |  999 | 998 | 30 | 20726 | 260 | 2024-03-21 11:01:43 |\n",
       "| 2726 | 24804 | 541 | 995 | 1000 | 998 | 30 | 20826 | 260 | 2024-03-21 11:01:44 |\n",
       "| 2727 | 24804 | 545 | 995 |  999 | 998 | 30 | 20926 | 260 | 2024-03-21 11:01:45 |\n",
       "\n"
      ],
      "text/plain": [
       "   current volt  valve hpa1 hpa2 hpa3 temp cnt   ms  rtc                \n",
       "1  2727    24804 544   995  1000 998  30   20026 260 2024-03-21 11:01:36\n",
       "2  2730    24804 548   995   999 998  30   20126 260 2024-03-21 11:01:37\n",
       "3  2726    24804 549   995   998 998  30   20226 260 2024-03-21 11:01:38\n",
       "4  2724    24804 548   994  1000 998  30   20326 260 2024-03-21 11:01:39\n",
       "5  2731    24804 541   995   999 998  30   20426 260 2024-03-21 11:01:40\n",
       "6  2725    24804 550   995   999 998  30   20526 260 2024-03-21 11:01:41\n",
       "7  2724    24804 542   994  1000 999  30   20626 260 2024-03-21 11:01:42\n",
       "8  2724    24804 549   995   999 998  30   20726 260 2024-03-21 11:01:43\n",
       "9  2726    24804 541   995  1000 998  30   20826 260 2024-03-21 11:01:44\n",
       "10 2727    24804 545   995   999 998  30   20926 260 2024-03-21 11:01:45"
      ]
     },
     "metadata": {},
     "output_type": "display_data"
    }
   ],
   "source": [
    "dataCleaned <- function(data){\n",
    "    for (i in 1:length(data)){\n",
    "        data[i] <- mergeData(data, i)[i]   \n",
    "    }\n",
    "    \n",
    "    rtcColum <- data$rtc %>% strsplit(\"}\")\n",
    "    \n",
    "    for (i in 1:length(data)){\n",
    "    data$rtc[i] <-rtcColum[i]\n",
    "    }\n",
    "    \n",
    "    for (i in 1:length(data)){\n",
    "        data[[i]] <-  data[[i]] %>% as.numeric()\n",
    "    }\n",
    "    data[, ncol(data)] <- as_datetime(as.character(data[, ncol(data)]))\n",
    "    return (data)\n",
    "}\n",
    "dataCleaned(dataClone)"
   ]
  },
  {
   "cell_type": "markdown",
   "id": "2fc5962a-f7a0-46fa-af45-b5f54d7032f7",
   "metadata": {
    "editable": true,
    "slideshow": {
     "slide_type": ""
    },
    "tags": []
   },
   "source": [
    "<h1>Method 2</h1>"
   ]
  },
  {
   "cell_type": "code",
   "execution_count": 8,
   "id": "fc829d36-ef50-4866-b8d2-db1020313895",
   "metadata": {
    "editable": true,
    "slideshow": {
     "slide_type": ""
    },
    "tags": []
   },
   "outputs": [],
   "source": [
    "# data.frame(lapply(cleaned(gsubData)[,-ncol(cleaned(gsubData))],as.numeric)) %>% mutate(\"rtc\"= as_datetime(cleaned(gsubData)[,ncol(cleaned(gsubData))]))"
   ]
  },
  {
   "cell_type": "markdown",
   "id": "adaca389-4801-4f25-86c3-4b5213d83089",
   "metadata": {},
   "source": [
    "<h3>\n",
    "    All of methods in a function\n",
    "</h3>"
   ]
  },
  {
   "cell_type": "code",
   "execution_count": 9,
   "id": "12195e04-53f6-4e5b-86ed-3ba859c0abe2",
   "metadata": {
    "editable": true,
    "slideshow": {
     "slide_type": ""
    },
    "tags": []
   },
   "outputs": [
    {
     "data": {
      "text/html": [
       "<table class=\"dataframe\">\n",
       "<caption>A data.frame: 10 × 10</caption>\n",
       "<thead>\n",
       "\t<tr><th scope=col>current</th><th scope=col>volt</th><th scope=col>valve</th><th scope=col>hpa1</th><th scope=col>hpa2</th><th scope=col>hpa3</th><th scope=col>temp</th><th scope=col>cnt</th><th scope=col>ms</th><th scope=col>rtc</th></tr>\n",
       "\t<tr><th scope=col>&lt;dbl&gt;</th><th scope=col>&lt;dbl&gt;</th><th scope=col>&lt;dbl&gt;</th><th scope=col>&lt;dbl&gt;</th><th scope=col>&lt;dbl&gt;</th><th scope=col>&lt;dbl&gt;</th><th scope=col>&lt;dbl&gt;</th><th scope=col>&lt;dbl&gt;</th><th scope=col>&lt;dbl&gt;</th><th scope=col>&lt;dttm&gt;</th></tr>\n",
       "</thead>\n",
       "<tbody>\n",
       "\t<tr><td>2727</td><td>24804</td><td>544</td><td>995</td><td>1000</td><td>998</td><td>30</td><td>20026</td><td>260</td><td>2024-03-21 11:01:36</td></tr>\n",
       "\t<tr><td>2730</td><td>24804</td><td>548</td><td>995</td><td> 999</td><td>998</td><td>30</td><td>20126</td><td>260</td><td>2024-03-21 11:01:37</td></tr>\n",
       "\t<tr><td>2726</td><td>24804</td><td>549</td><td>995</td><td> 998</td><td>998</td><td>30</td><td>20226</td><td>260</td><td>2024-03-21 11:01:38</td></tr>\n",
       "\t<tr><td>2724</td><td>24804</td><td>548</td><td>994</td><td>1000</td><td>998</td><td>30</td><td>20326</td><td>260</td><td>2024-03-21 11:01:39</td></tr>\n",
       "\t<tr><td>2731</td><td>24804</td><td>541</td><td>995</td><td> 999</td><td>998</td><td>30</td><td>20426</td><td>260</td><td>2024-03-21 11:01:40</td></tr>\n",
       "\t<tr><td>2725</td><td>24804</td><td>550</td><td>995</td><td> 999</td><td>998</td><td>30</td><td>20526</td><td>260</td><td>2024-03-21 11:01:41</td></tr>\n",
       "\t<tr><td>2724</td><td>24804</td><td>542</td><td>994</td><td>1000</td><td>999</td><td>30</td><td>20626</td><td>260</td><td>2024-03-21 11:01:42</td></tr>\n",
       "\t<tr><td>2724</td><td>24804</td><td>549</td><td>995</td><td> 999</td><td>998</td><td>30</td><td>20726</td><td>260</td><td>2024-03-21 11:01:43</td></tr>\n",
       "\t<tr><td>2726</td><td>24804</td><td>541</td><td>995</td><td>1000</td><td>998</td><td>30</td><td>20826</td><td>260</td><td>2024-03-21 11:01:44</td></tr>\n",
       "\t<tr><td>2727</td><td>24804</td><td>545</td><td>995</td><td> 999</td><td>998</td><td>30</td><td>20926</td><td>260</td><td>2024-03-21 11:01:45</td></tr>\n",
       "</tbody>\n",
       "</table>\n"
      ],
      "text/latex": [
       "A data.frame: 10 × 10\n",
       "\\begin{tabular}{llllllllll}\n",
       " current & volt & valve & hpa1 & hpa2 & hpa3 & temp & cnt & ms & rtc\\\\\n",
       " <dbl> & <dbl> & <dbl> & <dbl> & <dbl> & <dbl> & <dbl> & <dbl> & <dbl> & <dttm>\\\\\n",
       "\\hline\n",
       "\t 2727 & 24804 & 544 & 995 & 1000 & 998 & 30 & 20026 & 260 & 2024-03-21 11:01:36\\\\\n",
       "\t 2730 & 24804 & 548 & 995 &  999 & 998 & 30 & 20126 & 260 & 2024-03-21 11:01:37\\\\\n",
       "\t 2726 & 24804 & 549 & 995 &  998 & 998 & 30 & 20226 & 260 & 2024-03-21 11:01:38\\\\\n",
       "\t 2724 & 24804 & 548 & 994 & 1000 & 998 & 30 & 20326 & 260 & 2024-03-21 11:01:39\\\\\n",
       "\t 2731 & 24804 & 541 & 995 &  999 & 998 & 30 & 20426 & 260 & 2024-03-21 11:01:40\\\\\n",
       "\t 2725 & 24804 & 550 & 995 &  999 & 998 & 30 & 20526 & 260 & 2024-03-21 11:01:41\\\\\n",
       "\t 2724 & 24804 & 542 & 994 & 1000 & 999 & 30 & 20626 & 260 & 2024-03-21 11:01:42\\\\\n",
       "\t 2724 & 24804 & 549 & 995 &  999 & 998 & 30 & 20726 & 260 & 2024-03-21 11:01:43\\\\\n",
       "\t 2726 & 24804 & 541 & 995 & 1000 & 998 & 30 & 20826 & 260 & 2024-03-21 11:01:44\\\\\n",
       "\t 2727 & 24804 & 545 & 995 &  999 & 998 & 30 & 20926 & 260 & 2024-03-21 11:01:45\\\\\n",
       "\\end{tabular}\n"
      ],
      "text/markdown": [
       "\n",
       "A data.frame: 10 × 10\n",
       "\n",
       "| current &lt;dbl&gt; | volt &lt;dbl&gt; | valve &lt;dbl&gt; | hpa1 &lt;dbl&gt; | hpa2 &lt;dbl&gt; | hpa3 &lt;dbl&gt; | temp &lt;dbl&gt; | cnt &lt;dbl&gt; | ms &lt;dbl&gt; | rtc &lt;dttm&gt; |\n",
       "|---|---|---|---|---|---|---|---|---|---|\n",
       "| 2727 | 24804 | 544 | 995 | 1000 | 998 | 30 | 20026 | 260 | 2024-03-21 11:01:36 |\n",
       "| 2730 | 24804 | 548 | 995 |  999 | 998 | 30 | 20126 | 260 | 2024-03-21 11:01:37 |\n",
       "| 2726 | 24804 | 549 | 995 |  998 | 998 | 30 | 20226 | 260 | 2024-03-21 11:01:38 |\n",
       "| 2724 | 24804 | 548 | 994 | 1000 | 998 | 30 | 20326 | 260 | 2024-03-21 11:01:39 |\n",
       "| 2731 | 24804 | 541 | 995 |  999 | 998 | 30 | 20426 | 260 | 2024-03-21 11:01:40 |\n",
       "| 2725 | 24804 | 550 | 995 |  999 | 998 | 30 | 20526 | 260 | 2024-03-21 11:01:41 |\n",
       "| 2724 | 24804 | 542 | 994 | 1000 | 999 | 30 | 20626 | 260 | 2024-03-21 11:01:42 |\n",
       "| 2724 | 24804 | 549 | 995 |  999 | 998 | 30 | 20726 | 260 | 2024-03-21 11:01:43 |\n",
       "| 2726 | 24804 | 541 | 995 | 1000 | 998 | 30 | 20826 | 260 | 2024-03-21 11:01:44 |\n",
       "| 2727 | 24804 | 545 | 995 |  999 | 998 | 30 | 20926 | 260 | 2024-03-21 11:01:45 |\n",
       "\n"
      ],
      "text/plain": [
       "   current volt  valve hpa1 hpa2 hpa3 temp cnt   ms  rtc                \n",
       "1  2727    24804 544   995  1000 998  30   20026 260 2024-03-21 11:01:36\n",
       "2  2730    24804 548   995   999 998  30   20126 260 2024-03-21 11:01:37\n",
       "3  2726    24804 549   995   998 998  30   20226 260 2024-03-21 11:01:38\n",
       "4  2724    24804 548   994  1000 998  30   20326 260 2024-03-21 11:01:39\n",
       "5  2731    24804 541   995   999 998  30   20426 260 2024-03-21 11:01:40\n",
       "6  2725    24804 550   995   999 998  30   20526 260 2024-03-21 11:01:41\n",
       "7  2724    24804 542   994  1000 999  30   20626 260 2024-03-21 11:01:42\n",
       "8  2724    24804 549   995   999 998  30   20726 260 2024-03-21 11:01:43\n",
       "9  2726    24804 541   995  1000 998  30   20826 260 2024-03-21 11:01:44\n",
       "10 2727    24804 545   995   999 998  30   20926 260 2024-03-21 11:01:45"
      ]
     },
     "metadata": {},
     "output_type": "display_data"
    }
   ],
   "source": [
    "gsubData <- data\n",
    "cleaned <- function(data){\n",
    "    for(i in 1:length(data)){\n",
    "        data[[i]] <- gsub(\"[^:]+:\",\"\",data[[i]])\n",
    "        data[[i]] <- gsub(\"}\",\"\",data[[i]])\n",
    "    }\n",
    "    return(data)\n",
    "}\n",
    "\n",
    "astype <- function(data){\n",
    "    return(data.frame(lapply(data[,-ncol(data)],as.numeric)) %>%  mutate(\"rtc\"= as_datetime(data[,ncol(data)])))    \n",
    "}\n",
    "\n",
    "astype(cleaned(gsubData))"
   ]
  },
  {
   "cell_type": "markdown",
   "id": "63fb9988-afa9-470d-a37c-5a93e74c9104",
   "metadata": {},
   "source": [
    "<h1>Save as CSV</h1>"
   ]
  },
  {
   "cell_type": "markdown",
   "id": "6197814c-9b84-44b7-940a-02c713605ac7",
   "metadata": {},
   "source": [
    "*Export to .csv file in your local dir*"
   ]
  },
  {
   "cell_type": "code",
   "execution_count": 15,
   "id": "64896529-bfef-45fa-a43e-0af413eb8f20",
   "metadata": {},
   "outputs": [
    {
     "name": "stdin",
     "output_type": "stream",
     "text": [
      "save to csv: y(yes)/n(no) \n",
      " n\n"
     ]
    },
    {
     "name": "stderr",
     "output_type": "stream",
     "text": [
      "Warning message:\n",
      "“Don't save as .csv”\n"
     ]
    }
   ],
   "source": [
    "exportCsv <- function(data){\n",
    "    if (readline(\"save to csv: y(yes)/n(no) \\n\") == \"y\" ){\n",
    "    fileName <- readline((\"file name: \"))\n",
    "    write.csv(dataCleaned(data),paste0(fileName,\".csv\") )\n",
    "    message(paste0(\"Successful save csv as:\", getwd(),\"/\",fileName,\".csv\"))\n",
    "    } else {warning(\"Don't save as .csv\", call. = FALSE)}\n",
    "}\n",
    "exportCsv()\n"
   ]
  },
  {
   "cell_type": "code",
   "execution_count": null,
   "id": "ace780f0-b199-43aa-ae16-6902011960e0",
   "metadata": {},
   "outputs": [],
   "source": []
  }
 ],
 "metadata": {
  "kernelspec": {
   "display_name": "R",
   "language": "R",
   "name": "ir"
  },
  "language_info": {
   "codemirror_mode": "r",
   "file_extension": ".r",
   "mimetype": "text/x-r-source",
   "name": "R",
   "pygments_lexer": "r",
   "version": "4.1.2"
  }
 },
 "nbformat": 4,
 "nbformat_minor": 5
}
