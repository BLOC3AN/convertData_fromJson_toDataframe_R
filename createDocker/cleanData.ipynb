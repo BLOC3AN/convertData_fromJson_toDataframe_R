{
 "cells": [
  {
   "cell_type": "markdown",
   "id": "780c34f2-54d5-40a6-a2c0-247e24d6f8b7",
   "metadata": {
    "editable": true,
    "slideshow": {
     "slide_type": ""
    },
    "tags": []
   },
   "source": [
    "**Load library and read file**  <br> \n",
    "*i'm using tidyverse packages to solve*"
   ]
  },
  {
   "cell_type": "code",
   "execution_count": 3,
   "id": "51ebfc6d-5198-43c0-8786-fc53e7921c62",
   "metadata": {
    "editable": true,
    "slideshow": {
     "slide_type": ""
    },
    "tags": []
   },
   "outputs": [],
   "source": [
    "library(tidyverse)"
   ]
  },
  {
   "cell_type": "code",
   "execution_count": 2,
   "id": "97d44a7d-dd01-4ac0-bc8d-17c26dc7bc23",
   "metadata": {
    "editable": true,
    "slideshow": {
     "slide_type": ""
    },
    "tags": []
   },
   "outputs": [],
   "source": [
    "pathFiles = \"taiwan_2024_03_21_11_05_45.csv\"\n",
    "dataCsv <- read.csv(pathFiles,header = FALSE)"
   ]
  },
  {
   "cell_type": "code",
   "execution_count": 4,
   "id": "508fb25f-5774-486f-915b-a6f50533374e",
   "metadata": {
    "editable": true,
    "slideshow": {
     "slide_type": ""
    },
    "tags": []
   },
   "outputs": [],
   "source": [
    "data <- dataCsv[-1]\n",
    "names(data) <- c(\"current\",\"volt\",\"valve\",\"hpa1\",\"hpa2\",\"hpa3\",\"temp\",\"cnt\",\"ms\",\"rtc\")"
   ]
  },
  {
   "cell_type": "markdown",
   "id": "f54b136c-75ea-43e6-9a86-e3f8020779be",
   "metadata": {
    "editable": true,
    "slideshow": {
     "slide_type": ""
    },
    "tags": []
   },
   "source": [
    "<h1>Method1</h1>"
   ]
  },
  {
   "cell_type": "code",
   "execution_count": 5,
   "id": "0ff103f1-7715-4184-8210-eba45d3b7521",
   "metadata": {
    "editable": true,
    "slideshow": {
     "slide_type": ""
    },
    "tags": []
   },
   "outputs": [],
   "source": [
    "dataClone <- data"
   ]
  },
  {
   "cell_type": "markdown",
   "id": "51d08dd7-e78b-4108-b241-f8b43aa69704",
   "metadata": {},
   "source": [
    "<h2>Split data</h2>\n"
   ]
  },
  {
   "cell_type": "markdown",
   "id": "c0449409-cfdf-4b33-bfb2-edebdc680efe",
   "metadata": {},
   "source": [
    "*Splitting string as \":\" and take numbers*"
   ]
  },
  {
   "cell_type": "code",
   "execution_count": 6,
   "id": "cc97c547-4e90-4fe6-9f70-cec2186bd98a",
   "metadata": {
    "editable": true,
    "slideshow": {
     "slide_type": ""
    },
    "tags": []
   },
   "outputs": [],
   "source": [
    "splitData <- function(data,num){\n",
    "    for(i in data[num]) {\n",
    "       result <- strsplit(i,\":\")\n",
    "    }\n",
    "    return (result)\n",
    "}"
   ]
  },
  {
   "cell_type": "markdown",
   "id": "deb6349d-2363-4c5b-a55f-35e486d666dd",
   "metadata": {},
   "source": [
    "<h2>\n",
    "    Merge data\n",
    "</h2>"
   ]
  },
  {
   "cell_type": "markdown",
   "id": "04d07301-3e42-4be9-9d8e-79b9897a949c",
   "metadata": {},
   "source": [
    "*Merge strings after splited as each column in dataframe*\n"
   ]
  },
  {
   "cell_type": "code",
   "execution_count": 7,
   "id": "61b11e94-972c-47d2-8079-4594cd148d66",
   "metadata": {
    "editable": true,
    "scrolled": true,
    "slideshow": {
     "slide_type": ""
    },
    "tags": []
   },
   "outputs": [],
   "source": [
    "mergeData <- function(data,num) {\n",
    "    \n",
    "    for(i in 1:length(data[[1]])) {\n",
    "        data[[num]][i] <-splitData(data,num)[[i]][2]\n",
    "        data \n",
    "    }\n",
    "   return(data)\n",
    "}\n"
   ]
  },
  {
   "cell_type": "markdown",
   "id": "07fd858b-80a6-449c-8823-9b87cace65bf",
   "metadata": {},
   "source": [
    "<h2>\n",
    "    Export data\n",
    "</h2>"
   ]
  },
  {
   "cell_type": "markdown",
   "id": "6865039e-58ae-4991-8498-e1fc8e76194b",
   "metadata": {},
   "source": [
    "*Changing data types of each columns and showing at dataframe*"
   ]
  },
  {
   "cell_type": "code",
   "execution_count": 8,
   "id": "af7b340f-c68d-4c2a-8fc9-54fb4a341264",
   "metadata": {
    "editable": true,
    "slideshow": {
     "slide_type": ""
    },
    "tags": []
   },
   "outputs": [
    {
     "data": {
      "text/html": [
       "<table class=\"dataframe\">\n",
       "<caption>A data.frame: 10 × 10</caption>\n",
       "<thead>\n",
       "\t<tr><th scope=col>current</th><th scope=col>volt</th><th scope=col>valve</th><th scope=col>hpa1</th><th scope=col>hpa2</th><th scope=col>hpa3</th><th scope=col>temp</th><th scope=col>cnt</th><th scope=col>ms</th><th scope=col>rtc</th></tr>\n",
       "\t<tr><th scope=col>&lt;dbl&gt;</th><th scope=col>&lt;dbl&gt;</th><th scope=col>&lt;dbl&gt;</th><th scope=col>&lt;dbl&gt;</th><th scope=col>&lt;dbl&gt;</th><th scope=col>&lt;dbl&gt;</th><th scope=col>&lt;dbl&gt;</th><th scope=col>&lt;dbl&gt;</th><th scope=col>&lt;dbl&gt;</th><th scope=col>&lt;dttm&gt;</th></tr>\n",
       "</thead>\n",
       "<tbody>\n",
       "\t<tr><td>2727</td><td>24804</td><td>544</td><td>995</td><td>1000</td><td>998</td><td>30</td><td>20026</td><td>260</td><td>2024-03-21 11:01:36</td></tr>\n",
       "\t<tr><td>2730</td><td>24804</td><td>548</td><td>995</td><td> 999</td><td>998</td><td>30</td><td>20126</td><td>260</td><td>2024-03-21 11:01:37</td></tr>\n",
       "\t<tr><td>2726</td><td>24804</td><td>549</td><td>995</td><td> 998</td><td>998</td><td>30</td><td>20226</td><td>260</td><td>2024-03-21 11:01:38</td></tr>\n",
       "\t<tr><td>2724</td><td>24804</td><td>548</td><td>994</td><td>1000</td><td>998</td><td>30</td><td>20326</td><td>260</td><td>2024-03-21 11:01:39</td></tr>\n",
       "\t<tr><td>2731</td><td>24804</td><td>541</td><td>995</td><td> 999</td><td>998</td><td>30</td><td>20426</td><td>260</td><td>2024-03-21 11:01:40</td></tr>\n",
       "\t<tr><td>2725</td><td>24804</td><td>550</td><td>995</td><td> 999</td><td>998</td><td>30</td><td>20526</td><td>260</td><td>2024-03-21 11:01:41</td></tr>\n",
       "\t<tr><td>2724</td><td>24804</td><td>542</td><td>994</td><td>1000</td><td>999</td><td>30</td><td>20626</td><td>260</td><td>2024-03-21 11:01:42</td></tr>\n",
       "\t<tr><td>2724</td><td>24804</td><td>549</td><td>995</td><td> 999</td><td>998</td><td>30</td><td>20726</td><td>260</td><td>2024-03-21 11:01:43</td></tr>\n",
       "\t<tr><td>2726</td><td>24804</td><td>541</td><td>995</td><td>1000</td><td>998</td><td>30</td><td>20826</td><td>260</td><td>2024-03-21 11:01:44</td></tr>\n",
       "\t<tr><td>2727</td><td>24804</td><td>545</td><td>995</td><td> 999</td><td>998</td><td>30</td><td>20926</td><td>260</td><td>2024-03-21 11:01:45</td></tr>\n",
       "</tbody>\n",
       "</table>\n"
      ],
      "text/latex": [
       "A data.frame: 10 × 10\n",
       "\\begin{tabular}{llllllllll}\n",
       " current & volt & valve & hpa1 & hpa2 & hpa3 & temp & cnt & ms & rtc\\\\\n",
       " <dbl> & <dbl> & <dbl> & <dbl> & <dbl> & <dbl> & <dbl> & <dbl> & <dbl> & <dttm>\\\\\n",
       "\\hline\n",
       "\t 2727 & 24804 & 544 & 995 & 1000 & 998 & 30 & 20026 & 260 & 2024-03-21 11:01:36\\\\\n",
       "\t 2730 & 24804 & 548 & 995 &  999 & 998 & 30 & 20126 & 260 & 2024-03-21 11:01:37\\\\\n",
       "\t 2726 & 24804 & 549 & 995 &  998 & 998 & 30 & 20226 & 260 & 2024-03-21 11:01:38\\\\\n",
       "\t 2724 & 24804 & 548 & 994 & 1000 & 998 & 30 & 20326 & 260 & 2024-03-21 11:01:39\\\\\n",
       "\t 2731 & 24804 & 541 & 995 &  999 & 998 & 30 & 20426 & 260 & 2024-03-21 11:01:40\\\\\n",
       "\t 2725 & 24804 & 550 & 995 &  999 & 998 & 30 & 20526 & 260 & 2024-03-21 11:01:41\\\\\n",
       "\t 2724 & 24804 & 542 & 994 & 1000 & 999 & 30 & 20626 & 260 & 2024-03-21 11:01:42\\\\\n",
       "\t 2724 & 24804 & 549 & 995 &  999 & 998 & 30 & 20726 & 260 & 2024-03-21 11:01:43\\\\\n",
       "\t 2726 & 24804 & 541 & 995 & 1000 & 998 & 30 & 20826 & 260 & 2024-03-21 11:01:44\\\\\n",
       "\t 2727 & 24804 & 545 & 995 &  999 & 998 & 30 & 20926 & 260 & 2024-03-21 11:01:45\\\\\n",
       "\\end{tabular}\n"
      ],
      "text/markdown": [
       "\n",
       "A data.frame: 10 × 10\n",
       "\n",
       "| current &lt;dbl&gt; | volt &lt;dbl&gt; | valve &lt;dbl&gt; | hpa1 &lt;dbl&gt; | hpa2 &lt;dbl&gt; | hpa3 &lt;dbl&gt; | temp &lt;dbl&gt; | cnt &lt;dbl&gt; | ms &lt;dbl&gt; | rtc &lt;dttm&gt; |\n",
       "|---|---|---|---|---|---|---|---|---|---|\n",
       "| 2727 | 24804 | 544 | 995 | 1000 | 998 | 30 | 20026 | 260 | 2024-03-21 11:01:36 |\n",
       "| 2730 | 24804 | 548 | 995 |  999 | 998 | 30 | 20126 | 260 | 2024-03-21 11:01:37 |\n",
       "| 2726 | 24804 | 549 | 995 |  998 | 998 | 30 | 20226 | 260 | 2024-03-21 11:01:38 |\n",
       "| 2724 | 24804 | 548 | 994 | 1000 | 998 | 30 | 20326 | 260 | 2024-03-21 11:01:39 |\n",
       "| 2731 | 24804 | 541 | 995 |  999 | 998 | 30 | 20426 | 260 | 2024-03-21 11:01:40 |\n",
       "| 2725 | 24804 | 550 | 995 |  999 | 998 | 30 | 20526 | 260 | 2024-03-21 11:01:41 |\n",
       "| 2724 | 24804 | 542 | 994 | 1000 | 999 | 30 | 20626 | 260 | 2024-03-21 11:01:42 |\n",
       "| 2724 | 24804 | 549 | 995 |  999 | 998 | 30 | 20726 | 260 | 2024-03-21 11:01:43 |\n",
       "| 2726 | 24804 | 541 | 995 | 1000 | 998 | 30 | 20826 | 260 | 2024-03-21 11:01:44 |\n",
       "| 2727 | 24804 | 545 | 995 |  999 | 998 | 30 | 20926 | 260 | 2024-03-21 11:01:45 |\n",
       "\n"
      ],
      "text/plain": [
       "   current volt  valve hpa1 hpa2 hpa3 temp cnt   ms  rtc                \n",
       "1  2727    24804 544   995  1000 998  30   20026 260 2024-03-21 11:01:36\n",
       "2  2730    24804 548   995   999 998  30   20126 260 2024-03-21 11:01:37\n",
       "3  2726    24804 549   995   998 998  30   20226 260 2024-03-21 11:01:38\n",
       "4  2724    24804 548   994  1000 998  30   20326 260 2024-03-21 11:01:39\n",
       "5  2731    24804 541   995   999 998  30   20426 260 2024-03-21 11:01:40\n",
       "6  2725    24804 550   995   999 998  30   20526 260 2024-03-21 11:01:41\n",
       "7  2724    24804 542   994  1000 999  30   20626 260 2024-03-21 11:01:42\n",
       "8  2724    24804 549   995   999 998  30   20726 260 2024-03-21 11:01:43\n",
       "9  2726    24804 541   995  1000 998  30   20826 260 2024-03-21 11:01:44\n",
       "10 2727    24804 545   995   999 998  30   20926 260 2024-03-21 11:01:45"
      ]
     },
     "metadata": {},
     "output_type": "display_data"
    }
   ],
   "source": [
    "dataCleaned <- function(data){\n",
    "    for (i in 1:length(data)){\n",
    "        data[i] <- mergeData(data, i)[i]   \n",
    "    }\n",
    "    \n",
    "    rtcColum <- data$rtc %>% strsplit(\"}\")\n",
    "    \n",
    "    for (i in 1:length(data)){\n",
    "    data$rtc[i] <-rtcColum[i]\n",
    "    }\n",
    "    \n",
    "    for (i in 1:length(data)){\n",
    "        data[[i]] <-  data[[i]] %>% as.numeric()\n",
    "    }\n",
    "    data[, ncol(data)] <- as_datetime(as.character(data[, ncol(data)]))\n",
    "    return (data)\n",
    "}\n",
    "dataCleaned(dataClone)"
   ]
  },
  {
   "cell_type": "markdown",
   "id": "2fc5962a-f7a0-46fa-af45-b5f54d7032f7",
   "metadata": {
    "editable": true,
    "slideshow": {
     "slide_type": ""
    },
    "tags": []
   },
   "source": [
    "<h1>Method 2</h1>"
   ]
  },
  {
   "cell_type": "code",
   "execution_count": 9,
   "id": "fc829d36-ef50-4866-b8d2-db1020313895",
   "metadata": {
    "editable": true,
    "slideshow": {
     "slide_type": ""
    },
    "tags": []
   },
   "outputs": [],
   "source": [
    "# data.frame(lapply(cleaned(gsubData)[,-ncol(cleaned(gsubData))],as.numeric)) %>% mutate(\"rtc\"= as_datetime(cleaned(gsubData)[,ncol(cleaned(gsubData))]))"
   ]
  },
  {
   "cell_type": "markdown",
   "id": "adaca389-4801-4f25-86c3-4b5213d83089",
   "metadata": {},
   "source": [
    "<h3>\n",
    "    All of methods in a function\n",
    "</h3>"
   ]
  },
  {
   "cell_type": "code",
   "execution_count": 10,
   "id": "12195e04-53f6-4e5b-86ed-3ba859c0abe2",
   "metadata": {
    "editable": true,
    "slideshow": {
     "slide_type": ""
    },
    "tags": []
   },
   "outputs": [
    {
     "data": {
      "text/html": [
       "<table class=\"dataframe\">\n",
       "<caption>A data.frame: 10 × 10</caption>\n",
       "<thead>\n",
       "\t<tr><th scope=col>current</th><th scope=col>volt</th><th scope=col>valve</th><th scope=col>hpa1</th><th scope=col>hpa2</th><th scope=col>hpa3</th><th scope=col>temp</th><th scope=col>cnt</th><th scope=col>ms</th><th scope=col>rtc</th></tr>\n",
       "\t<tr><th scope=col>&lt;dbl&gt;</th><th scope=col>&lt;dbl&gt;</th><th scope=col>&lt;dbl&gt;</th><th scope=col>&lt;dbl&gt;</th><th scope=col>&lt;dbl&gt;</th><th scope=col>&lt;dbl&gt;</th><th scope=col>&lt;dbl&gt;</th><th scope=col>&lt;dbl&gt;</th><th scope=col>&lt;dbl&gt;</th><th scope=col>&lt;dttm&gt;</th></tr>\n",
       "</thead>\n",
       "<tbody>\n",
       "\t<tr><td>2727</td><td>24804</td><td>544</td><td>995</td><td>1000</td><td>998</td><td>30</td><td>20026</td><td>260</td><td>2024-03-21 11:01:36</td></tr>\n",
       "\t<tr><td>2730</td><td>24804</td><td>548</td><td>995</td><td> 999</td><td>998</td><td>30</td><td>20126</td><td>260</td><td>2024-03-21 11:01:37</td></tr>\n",
       "\t<tr><td>2726</td><td>24804</td><td>549</td><td>995</td><td> 998</td><td>998</td><td>30</td><td>20226</td><td>260</td><td>2024-03-21 11:01:38</td></tr>\n",
       "\t<tr><td>2724</td><td>24804</td><td>548</td><td>994</td><td>1000</td><td>998</td><td>30</td><td>20326</td><td>260</td><td>2024-03-21 11:01:39</td></tr>\n",
       "\t<tr><td>2731</td><td>24804</td><td>541</td><td>995</td><td> 999</td><td>998</td><td>30</td><td>20426</td><td>260</td><td>2024-03-21 11:01:40</td></tr>\n",
       "\t<tr><td>2725</td><td>24804</td><td>550</td><td>995</td><td> 999</td><td>998</td><td>30</td><td>20526</td><td>260</td><td>2024-03-21 11:01:41</td></tr>\n",
       "\t<tr><td>2724</td><td>24804</td><td>542</td><td>994</td><td>1000</td><td>999</td><td>30</td><td>20626</td><td>260</td><td>2024-03-21 11:01:42</td></tr>\n",
       "\t<tr><td>2724</td><td>24804</td><td>549</td><td>995</td><td> 999</td><td>998</td><td>30</td><td>20726</td><td>260</td><td>2024-03-21 11:01:43</td></tr>\n",
       "\t<tr><td>2726</td><td>24804</td><td>541</td><td>995</td><td>1000</td><td>998</td><td>30</td><td>20826</td><td>260</td><td>2024-03-21 11:01:44</td></tr>\n",
       "\t<tr><td>2727</td><td>24804</td><td>545</td><td>995</td><td> 999</td><td>998</td><td>30</td><td>20926</td><td>260</td><td>2024-03-21 11:01:45</td></tr>\n",
       "</tbody>\n",
       "</table>\n"
      ],
      "text/latex": [
       "A data.frame: 10 × 10\n",
       "\\begin{tabular}{llllllllll}\n",
       " current & volt & valve & hpa1 & hpa2 & hpa3 & temp & cnt & ms & rtc\\\\\n",
       " <dbl> & <dbl> & <dbl> & <dbl> & <dbl> & <dbl> & <dbl> & <dbl> & <dbl> & <dttm>\\\\\n",
       "\\hline\n",
       "\t 2727 & 24804 & 544 & 995 & 1000 & 998 & 30 & 20026 & 260 & 2024-03-21 11:01:36\\\\\n",
       "\t 2730 & 24804 & 548 & 995 &  999 & 998 & 30 & 20126 & 260 & 2024-03-21 11:01:37\\\\\n",
       "\t 2726 & 24804 & 549 & 995 &  998 & 998 & 30 & 20226 & 260 & 2024-03-21 11:01:38\\\\\n",
       "\t 2724 & 24804 & 548 & 994 & 1000 & 998 & 30 & 20326 & 260 & 2024-03-21 11:01:39\\\\\n",
       "\t 2731 & 24804 & 541 & 995 &  999 & 998 & 30 & 20426 & 260 & 2024-03-21 11:01:40\\\\\n",
       "\t 2725 & 24804 & 550 & 995 &  999 & 998 & 30 & 20526 & 260 & 2024-03-21 11:01:41\\\\\n",
       "\t 2724 & 24804 & 542 & 994 & 1000 & 999 & 30 & 20626 & 260 & 2024-03-21 11:01:42\\\\\n",
       "\t 2724 & 24804 & 549 & 995 &  999 & 998 & 30 & 20726 & 260 & 2024-03-21 11:01:43\\\\\n",
       "\t 2726 & 24804 & 541 & 995 & 1000 & 998 & 30 & 20826 & 260 & 2024-03-21 11:01:44\\\\\n",
       "\t 2727 & 24804 & 545 & 995 &  999 & 998 & 30 & 20926 & 260 & 2024-03-21 11:01:45\\\\\n",
       "\\end{tabular}\n"
      ],
      "text/markdown": [
       "\n",
       "A data.frame: 10 × 10\n",
       "\n",
       "| current &lt;dbl&gt; | volt &lt;dbl&gt; | valve &lt;dbl&gt; | hpa1 &lt;dbl&gt; | hpa2 &lt;dbl&gt; | hpa3 &lt;dbl&gt; | temp &lt;dbl&gt; | cnt &lt;dbl&gt; | ms &lt;dbl&gt; | rtc &lt;dttm&gt; |\n",
       "|---|---|---|---|---|---|---|---|---|---|\n",
       "| 2727 | 24804 | 544 | 995 | 1000 | 998 | 30 | 20026 | 260 | 2024-03-21 11:01:36 |\n",
       "| 2730 | 24804 | 548 | 995 |  999 | 998 | 30 | 20126 | 260 | 2024-03-21 11:01:37 |\n",
       "| 2726 | 24804 | 549 | 995 |  998 | 998 | 30 | 20226 | 260 | 2024-03-21 11:01:38 |\n",
       "| 2724 | 24804 | 548 | 994 | 1000 | 998 | 30 | 20326 | 260 | 2024-03-21 11:01:39 |\n",
       "| 2731 | 24804 | 541 | 995 |  999 | 998 | 30 | 20426 | 260 | 2024-03-21 11:01:40 |\n",
       "| 2725 | 24804 | 550 | 995 |  999 | 998 | 30 | 20526 | 260 | 2024-03-21 11:01:41 |\n",
       "| 2724 | 24804 | 542 | 994 | 1000 | 999 | 30 | 20626 | 260 | 2024-03-21 11:01:42 |\n",
       "| 2724 | 24804 | 549 | 995 |  999 | 998 | 30 | 20726 | 260 | 2024-03-21 11:01:43 |\n",
       "| 2726 | 24804 | 541 | 995 | 1000 | 998 | 30 | 20826 | 260 | 2024-03-21 11:01:44 |\n",
       "| 2727 | 24804 | 545 | 995 |  999 | 998 | 30 | 20926 | 260 | 2024-03-21 11:01:45 |\n",
       "\n"
      ],
      "text/plain": [
       "   current volt  valve hpa1 hpa2 hpa3 temp cnt   ms  rtc                \n",
       "1  2727    24804 544   995  1000 998  30   20026 260 2024-03-21 11:01:36\n",
       "2  2730    24804 548   995   999 998  30   20126 260 2024-03-21 11:01:37\n",
       "3  2726    24804 549   995   998 998  30   20226 260 2024-03-21 11:01:38\n",
       "4  2724    24804 548   994  1000 998  30   20326 260 2024-03-21 11:01:39\n",
       "5  2731    24804 541   995   999 998  30   20426 260 2024-03-21 11:01:40\n",
       "6  2725    24804 550   995   999 998  30   20526 260 2024-03-21 11:01:41\n",
       "7  2724    24804 542   994  1000 999  30   20626 260 2024-03-21 11:01:42\n",
       "8  2724    24804 549   995   999 998  30   20726 260 2024-03-21 11:01:43\n",
       "9  2726    24804 541   995  1000 998  30   20826 260 2024-03-21 11:01:44\n",
       "10 2727    24804 545   995   999 998  30   20926 260 2024-03-21 11:01:45"
      ]
     },
     "metadata": {},
     "output_type": "display_data"
    }
   ],
   "source": [
    "gsubData <- data\n",
    "cleaned <- function(data){\n",
    "    for(i in 1:length(data)){\n",
    "        data[[i]] <- gsub(\"[^:]+:\",\"\",data[[i]])\n",
    "        data[[i]] <- gsub(\"}\",\"\",data[[i]])\n",
    "    }\n",
    "    return(data)\n",
    "}\n",
    "\n",
    "astype <- function(data){\n",
    "    return(data.frame(lapply(data[,-ncol(data)],as.numeric)) %>%  mutate(\"rtc\"= as_datetime(data[,ncol(data)])))    \n",
    "}\n",
    "\n",
    "astype(cleaned(gsubData))"
   ]
  },
  {
   "cell_type": "markdown",
   "id": "63fb9988-afa9-470d-a37c-5a93e74c9104",
   "metadata": {},
   "source": [
    "<h1>Save as CSV</h1>"
   ]
  },
  {
   "cell_type": "markdown",
   "id": "6197814c-9b84-44b7-940a-02c713605ac7",
   "metadata": {},
   "source": [
    "*Export to .csv file in your local dir*"
   ]
  },
  {
   "cell_type": "code",
   "execution_count": 12,
   "id": "64896529-bfef-45fa-a43e-0af413eb8f20",
   "metadata": {},
   "outputs": [
    {
     "name": "stdin",
     "output_type": "stream",
     "text": [
      "save to csv: y(yes)/n(no) \n",
      " n\n"
     ]
    },
    {
     "name": "stderr",
     "output_type": "stream",
     "text": [
      "Warning message:\n",
      "“Don't save as .csv”\n"
     ]
    }
   ],
   "source": [
    "exportCsv <- function(data){\n",
    "    if (readline(\"save to csv: y(yes)/n(no) \\n\") == \"y\" ){\n",
    "    fileName <- readline((\"file name: \"))\n",
    "    write.csv(dataCleaned(data),paste0(fileName,\".csv\") )\n",
    "    message(paste0(\"Successful save csv as:\", getwd(),\"/\",fileName,\".csv\"))\n",
    "    } else {warning(\"Don't save as .csv\", call. = FALSE)}\n",
    "}\n",
    "exportCsv()"
   ]
  },
  {
   "cell_type": "code",
   "execution_count": 14,
   "id": "1f237f61-b524-4913-9114-c292ffbc6d21",
   "metadata": {},
   "outputs": [
    {
     "data": {
      "text/html": [
       "<table class=\"dataframe\">\n",
       "<caption>A data.frame: 10 × 10</caption>\n",
       "<thead>\n",
       "\t<tr><th scope=col>current</th><th scope=col>volt</th><th scope=col>valve</th><th scope=col>hpa1</th><th scope=col>hpa2</th><th scope=col>hpa3</th><th scope=col>temp</th><th scope=col>cnt</th><th scope=col>ms</th><th scope=col>rtc</th></tr>\n",
       "\t<tr><th scope=col>&lt;chr&gt;</th><th scope=col>&lt;chr&gt;</th><th scope=col>&lt;chr&gt;</th><th scope=col>&lt;chr&gt;</th><th scope=col>&lt;chr&gt;</th><th scope=col>&lt;chr&gt;</th><th scope=col>&lt;chr&gt;</th><th scope=col>&lt;chr&gt;</th><th scope=col>&lt;chr&gt;</th><th scope=col>&lt;chr&gt;</th></tr>\n",
       "</thead>\n",
       "<tbody>\n",
       "\t<tr><td> current: 2727</td><td> volt: 24804</td><td> valve: 544</td><td> hpa1: 995</td><td> hpa2: 1000</td><td> hpa3: 998</td><td> temp: 30</td><td> cnt: 20026</td><td> ms: 260</td><td> rtc: 20240321110136}</td></tr>\n",
       "\t<tr><td> current: 2730</td><td> volt: 24804</td><td> valve: 548</td><td> hpa1: 995</td><td> hpa2: 999 </td><td> hpa3: 998</td><td> temp: 30</td><td> cnt: 20126</td><td> ms: 260</td><td> rtc: 20240321110137}</td></tr>\n",
       "\t<tr><td> current: 2726</td><td> volt: 24804</td><td> valve: 549</td><td> hpa1: 995</td><td> hpa2: 998 </td><td> hpa3: 998</td><td> temp: 30</td><td> cnt: 20226</td><td> ms: 260</td><td> rtc: 20240321110138}</td></tr>\n",
       "\t<tr><td> current: 2724</td><td> volt: 24804</td><td> valve: 548</td><td> hpa1: 994</td><td> hpa2: 1000</td><td> hpa3: 998</td><td> temp: 30</td><td> cnt: 20326</td><td> ms: 260</td><td> rtc: 20240321110139}</td></tr>\n",
       "\t<tr><td> current: 2731</td><td> volt: 24804</td><td> valve: 541</td><td> hpa1: 995</td><td> hpa2: 999 </td><td> hpa3: 998</td><td> temp: 30</td><td> cnt: 20426</td><td> ms: 260</td><td> rtc: 20240321110140}</td></tr>\n",
       "\t<tr><td> current: 2725</td><td> volt: 24804</td><td> valve: 550</td><td> hpa1: 995</td><td> hpa2: 999 </td><td> hpa3: 998</td><td> temp: 30</td><td> cnt: 20526</td><td> ms: 260</td><td> rtc: 20240321110141}</td></tr>\n",
       "\t<tr><td> current: 2724</td><td> volt: 24804</td><td> valve: 542</td><td> hpa1: 994</td><td> hpa2: 1000</td><td> hpa3: 999</td><td> temp: 30</td><td> cnt: 20626</td><td> ms: 260</td><td> rtc: 20240321110142}</td></tr>\n",
       "\t<tr><td> current: 2724</td><td> volt: 24804</td><td> valve: 549</td><td> hpa1: 995</td><td> hpa2: 999 </td><td> hpa3: 998</td><td> temp: 30</td><td> cnt: 20726</td><td> ms: 260</td><td> rtc: 20240321110143}</td></tr>\n",
       "\t<tr><td> current: 2726</td><td> volt: 24804</td><td> valve: 541</td><td> hpa1: 995</td><td> hpa2: 1000</td><td> hpa3: 998</td><td> temp: 30</td><td> cnt: 20826</td><td> ms: 260</td><td> rtc: 20240321110144}</td></tr>\n",
       "\t<tr><td> current: 2727</td><td> volt: 24804</td><td> valve: 545</td><td> hpa1: 995</td><td> hpa2: 999 </td><td> hpa3: 998</td><td> temp: 30</td><td> cnt: 20926</td><td> ms: 260</td><td> rtc: 20240321110145}</td></tr>\n",
       "</tbody>\n",
       "</table>\n"
      ],
      "text/latex": [
       "A data.frame: 10 × 10\n",
       "\\begin{tabular}{llllllllll}\n",
       " current & volt & valve & hpa1 & hpa2 & hpa3 & temp & cnt & ms & rtc\\\\\n",
       " <chr> & <chr> & <chr> & <chr> & <chr> & <chr> & <chr> & <chr> & <chr> & <chr>\\\\\n",
       "\\hline\n",
       "\t  current: 2727 &  volt: 24804 &  valve: 544 &  hpa1: 995 &  hpa2: 1000 &  hpa3: 998 &  temp: 30 &  cnt: 20026 &  ms: 260 &  rtc: 20240321110136\\}\\\\\n",
       "\t  current: 2730 &  volt: 24804 &  valve: 548 &  hpa1: 995 &  hpa2: 999  &  hpa3: 998 &  temp: 30 &  cnt: 20126 &  ms: 260 &  rtc: 20240321110137\\}\\\\\n",
       "\t  current: 2726 &  volt: 24804 &  valve: 549 &  hpa1: 995 &  hpa2: 998  &  hpa3: 998 &  temp: 30 &  cnt: 20226 &  ms: 260 &  rtc: 20240321110138\\}\\\\\n",
       "\t  current: 2724 &  volt: 24804 &  valve: 548 &  hpa1: 994 &  hpa2: 1000 &  hpa3: 998 &  temp: 30 &  cnt: 20326 &  ms: 260 &  rtc: 20240321110139\\}\\\\\n",
       "\t  current: 2731 &  volt: 24804 &  valve: 541 &  hpa1: 995 &  hpa2: 999  &  hpa3: 998 &  temp: 30 &  cnt: 20426 &  ms: 260 &  rtc: 20240321110140\\}\\\\\n",
       "\t  current: 2725 &  volt: 24804 &  valve: 550 &  hpa1: 995 &  hpa2: 999  &  hpa3: 998 &  temp: 30 &  cnt: 20526 &  ms: 260 &  rtc: 20240321110141\\}\\\\\n",
       "\t  current: 2724 &  volt: 24804 &  valve: 542 &  hpa1: 994 &  hpa2: 1000 &  hpa3: 999 &  temp: 30 &  cnt: 20626 &  ms: 260 &  rtc: 20240321110142\\}\\\\\n",
       "\t  current: 2724 &  volt: 24804 &  valve: 549 &  hpa1: 995 &  hpa2: 999  &  hpa3: 998 &  temp: 30 &  cnt: 20726 &  ms: 260 &  rtc: 20240321110143\\}\\\\\n",
       "\t  current: 2726 &  volt: 24804 &  valve: 541 &  hpa1: 995 &  hpa2: 1000 &  hpa3: 998 &  temp: 30 &  cnt: 20826 &  ms: 260 &  rtc: 20240321110144\\}\\\\\n",
       "\t  current: 2727 &  volt: 24804 &  valve: 545 &  hpa1: 995 &  hpa2: 999  &  hpa3: 998 &  temp: 30 &  cnt: 20926 &  ms: 260 &  rtc: 20240321110145\\}\\\\\n",
       "\\end{tabular}\n"
      ],
      "text/markdown": [
       "\n",
       "A data.frame: 10 × 10\n",
       "\n",
       "| current &lt;chr&gt; | volt &lt;chr&gt; | valve &lt;chr&gt; | hpa1 &lt;chr&gt; | hpa2 &lt;chr&gt; | hpa3 &lt;chr&gt; | temp &lt;chr&gt; | cnt &lt;chr&gt; | ms &lt;chr&gt; | rtc &lt;chr&gt; |\n",
       "|---|---|---|---|---|---|---|---|---|---|\n",
       "|  current: 2727 |  volt: 24804 |  valve: 544 |  hpa1: 995 |  hpa2: 1000 |  hpa3: 998 |  temp: 30 |  cnt: 20026 |  ms: 260 |  rtc: 20240321110136} |\n",
       "|  current: 2730 |  volt: 24804 |  valve: 548 |  hpa1: 995 |  hpa2: 999  |  hpa3: 998 |  temp: 30 |  cnt: 20126 |  ms: 260 |  rtc: 20240321110137} |\n",
       "|  current: 2726 |  volt: 24804 |  valve: 549 |  hpa1: 995 |  hpa2: 998  |  hpa3: 998 |  temp: 30 |  cnt: 20226 |  ms: 260 |  rtc: 20240321110138} |\n",
       "|  current: 2724 |  volt: 24804 |  valve: 548 |  hpa1: 994 |  hpa2: 1000 |  hpa3: 998 |  temp: 30 |  cnt: 20326 |  ms: 260 |  rtc: 20240321110139} |\n",
       "|  current: 2731 |  volt: 24804 |  valve: 541 |  hpa1: 995 |  hpa2: 999  |  hpa3: 998 |  temp: 30 |  cnt: 20426 |  ms: 260 |  rtc: 20240321110140} |\n",
       "|  current: 2725 |  volt: 24804 |  valve: 550 |  hpa1: 995 |  hpa2: 999  |  hpa3: 998 |  temp: 30 |  cnt: 20526 |  ms: 260 |  rtc: 20240321110141} |\n",
       "|  current: 2724 |  volt: 24804 |  valve: 542 |  hpa1: 994 |  hpa2: 1000 |  hpa3: 999 |  temp: 30 |  cnt: 20626 |  ms: 260 |  rtc: 20240321110142} |\n",
       "|  current: 2724 |  volt: 24804 |  valve: 549 |  hpa1: 995 |  hpa2: 999  |  hpa3: 998 |  temp: 30 |  cnt: 20726 |  ms: 260 |  rtc: 20240321110143} |\n",
       "|  current: 2726 |  volt: 24804 |  valve: 541 |  hpa1: 995 |  hpa2: 1000 |  hpa3: 998 |  temp: 30 |  cnt: 20826 |  ms: 260 |  rtc: 20240321110144} |\n",
       "|  current: 2727 |  volt: 24804 |  valve: 545 |  hpa1: 995 |  hpa2: 999  |  hpa3: 998 |  temp: 30 |  cnt: 20926 |  ms: 260 |  rtc: 20240321110145} |\n",
       "\n"
      ],
      "text/plain": [
       "   current        volt         valve       hpa1       hpa2        hpa3      \n",
       "1   current: 2727  volt: 24804  valve: 544  hpa1: 995  hpa2: 1000  hpa3: 998\n",
       "2   current: 2730  volt: 24804  valve: 548  hpa1: 995  hpa2: 999   hpa3: 998\n",
       "3   current: 2726  volt: 24804  valve: 549  hpa1: 995  hpa2: 998   hpa3: 998\n",
       "4   current: 2724  volt: 24804  valve: 548  hpa1: 994  hpa2: 1000  hpa3: 998\n",
       "5   current: 2731  volt: 24804  valve: 541  hpa1: 995  hpa2: 999   hpa3: 998\n",
       "6   current: 2725  volt: 24804  valve: 550  hpa1: 995  hpa2: 999   hpa3: 998\n",
       "7   current: 2724  volt: 24804  valve: 542  hpa1: 994  hpa2: 1000  hpa3: 999\n",
       "8   current: 2724  volt: 24804  valve: 549  hpa1: 995  hpa2: 999   hpa3: 998\n",
       "9   current: 2726  volt: 24804  valve: 541  hpa1: 995  hpa2: 1000  hpa3: 998\n",
       "10  current: 2727  volt: 24804  valve: 545  hpa1: 995  hpa2: 999   hpa3: 998\n",
       "   temp      cnt         ms       rtc                  \n",
       "1   temp: 30  cnt: 20026  ms: 260  rtc: 20240321110136}\n",
       "2   temp: 30  cnt: 20126  ms: 260  rtc: 20240321110137}\n",
       "3   temp: 30  cnt: 20226  ms: 260  rtc: 20240321110138}\n",
       "4   temp: 30  cnt: 20326  ms: 260  rtc: 20240321110139}\n",
       "5   temp: 30  cnt: 20426  ms: 260  rtc: 20240321110140}\n",
       "6   temp: 30  cnt: 20526  ms: 260  rtc: 20240321110141}\n",
       "7   temp: 30  cnt: 20626  ms: 260  rtc: 20240321110142}\n",
       "8   temp: 30  cnt: 20726  ms: 260  rtc: 20240321110143}\n",
       "9   temp: 30  cnt: 20826  ms: 260  rtc: 20240321110144}\n",
       "10  temp: 30  cnt: 20926  ms: 260  rtc: 20240321110145}"
      ]
     },
     "metadata": {},
     "output_type": "display_data"
    }
   ],
   "source": [
    "dataClone"
   ]
  },
  {
   "cell_type": "code",
   "execution_count": null,
   "id": "f79fbf21-41c8-43f4-8fbc-8a3b96335953",
   "metadata": {},
   "outputs": [],
   "source": []
  }
 ],
 "metadata": {
  "kernelspec": {
   "display_name": "R",
   "language": "R",
   "name": "ir"
  },
  "language_info": {
   "codemirror_mode": "r",
   "file_extension": ".r",
   "mimetype": "text/x-r-source",
   "name": "R",
   "pygments_lexer": "r",
   "version": "4.1.2"
  }
 },
 "nbformat": 4,
 "nbformat_minor": 5
}
